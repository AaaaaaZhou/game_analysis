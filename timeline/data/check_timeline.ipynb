{
 "cells": [
  {
   "cell_type": "code",
   "execution_count": 1,
   "metadata": {},
   "outputs": [
    {
     "name": "stdout",
     "output_type": "stream",
     "text": [
      "dict_keys(['meta', 'timeline'])\n"
     ]
    }
   ],
   "source": [
    "import json\n",
    "\n",
    "with open(\"test_timeline.json\") as fin:\n",
    "    dddd = json.load(fin)\n",
    "print(dddd.keys())"
   ]
  },
  {
   "cell_type": "code",
   "execution_count": 2,
   "metadata": {},
   "outputs": [
    {
     "name": "stdout",
     "output_type": "stream",
     "text": [
      "{'FhY85U05l5k6InUvUqnygE5VhPbrOvkuBPeA27bUn62CdITkslfsh_jhGkXA_6c4oF3tiJpQGIeAAw': ['LeeSin', 'TOP'], 'NamVk-w5XsiHXwNmWEIhwATdILNQV6t7Ki7vanYgNpp0ACpBX5A625TxUOAl3FgiEMhkZCu-n8Ek6g': ['Talon', 'JUNGLE'], 'vV3GpjM9wXSpbNP2aeVjA5kpS7S7bjvXntMuT9cHxpgWwM08bugCx9ZjzHuRGgdcen6Iwur0O-7nDw': ['Akshan', 'MIDDLE'], 'EnMY1-LZLCMzDIs9EVHTYZrgIIlr8qmiHj0ZdDLIesYpDezUxJRve03DovAc5ugdIBR-nqFOgClgVg': ['Ezreal', 'BOTTOM'], 'Ge4RYYCbFTTuiFkAMGUvwDJykvV84mTiIKgen1k5BavhvQ8kQfmlZqU2TVg-TQcHHQdLh0I6dMkVgw': ['Yuumi', 'UTILITY'], '1pT3iu6eWp3i4AMI_4tEccIYGLYuj8x9aezRHfA9G_kJsLpnImzbAyO2dD3cfZrkduawd5YB9X8J_w': ['Akali', 'TOP'], '62O_V9UeLXpkm_Zg1LMzNhfDsaEVRQSnuE4W37CfJITeguNjriBCTixOxWky9z_Jf3uFC7c0Tai32g': ['Shyvana', 'JUNGLE'], 'y0Q8Z9vmo7g_HVkPPloMWGmOA97TU6M1k5ALq9iqvm05QpHpD2Nbaanu_aARGLm6ecH9ButCxV-3kg': ['Qiyana', 'MIDDLE'], 'uJK6vnt8w3T7fwRdVgiYnWvF3mS1x99hmh0VzMSacmG9_xXHE8Rl8ui1e78oYKaxtTKv1qlj_C8hHQ': ['Jhin', 'BOTTOM'], 'cdCzXPy9ei0pYJLO19WB64KuQ0pzdIEz91rnpMkW59LmSEdhjEy_gvLpUBjc2hz6Gz8lgQ7AZmHhfg': ['Leona', 'UTILITY']}\n"
     ]
    }
   ],
   "source": [
    "print(dddd[\"meta\"]) # dict{puuid: [champ_name, pos]}"
   ]
  },
  {
   "cell_type": "code",
   "execution_count": 3,
   "metadata": {},
   "outputs": [
    {
     "name": "stdout",
     "output_type": "stream",
     "text": [
      "dict_keys(['metadata', 'info'])\n"
     ]
    }
   ],
   "source": [
    "timeline = dddd[\"timeline\"]\n",
    "print(timeline.keys())"
   ]
  },
  {
   "cell_type": "code",
   "execution_count": 4,
   "metadata": {},
   "outputs": [
    {
     "name": "stdout",
     "output_type": "stream",
     "text": [
      "dict_keys(['frameInterval', 'frames', 'gameId', 'participants'])\n"
     ]
    }
   ],
   "source": [
    "info = timeline[\"info\"]\n",
    "print(info.keys())"
   ]
  },
  {
   "cell_type": "code",
   "execution_count": 5,
   "metadata": {},
   "outputs": [
    {
     "name": "stdout",
     "output_type": "stream",
     "text": [
      "36\n"
     ]
    }
   ],
   "source": [
    "frames = info[\"frames\"]\n",
    "print(len(frames))"
   ]
  },
  {
   "cell_type": "code",
   "execution_count": 6,
   "metadata": {},
   "outputs": [
    {
     "name": "stdout",
     "output_type": "stream",
     "text": [
      "dict_keys(['events', 'participantFrames', 'timestamp'])\n"
     ]
    }
   ],
   "source": [
    "ffff = frames[1]\n",
    "print(ffff.keys())"
   ]
  },
  {
   "cell_type": "code",
   "execution_count": 7,
   "metadata": {},
   "outputs": [
    {
     "name": "stdout",
     "output_type": "stream",
     "text": [
      "[{'itemId': 3850, 'participantId': 5, 'timestamp': 4902, 'type': 'ITEM_PURCHASED'}, {'itemId': 2003, 'participantId': 5, 'timestamp': 4902, 'type': 'ITEM_PURCHASED'}, {'itemId': 2003, 'participantId': 5, 'timestamp': 4902, 'type': 'ITEM_PURCHASED'}, {'afterId': 0, 'beforeId': 2003, 'goldGain': 50, 'participantId': 5, 'timestamp': 6455, 'type': 'ITEM_UNDO'}, {'afterId': 0, 'beforeId': 2003, 'goldGain': 50, 'participantId': 5, 'timestamp': 6687, 'type': 'ITEM_UNDO'}, {'itemId': 3340, 'participantId': 5, 'timestamp': 7579, 'type': 'ITEM_PURCHASED'}, {'itemId': 1001, 'participantId': 9, 'timestamp': 9032, 'type': 'ITEM_PURCHASED'}, {'itemId': 1035, 'participantId': 2, 'timestamp': 9362, 'type': 'ITEM_PURCHASED'}, {'itemId': 2003, 'participantId': 9, 'timestamp': 9429, 'type': 'ITEM_PURCHASED'}, {'itemId': 2003, 'participantId': 9, 'timestamp': 9594, 'type': 'ITEM_PURCHASED'}, {'itemId': 2003, 'participantId': 9, 'timestamp': 9726, 'type': 'ITEM_PURCHASED'}, {'itemId': 3340, 'participantId': 2, 'timestamp': 9825, 'type': 'ITEM_PURCHASED'}, {'itemId': 1036, 'participantId': 8, 'timestamp': 9825, 'type': 'ITEM_PURCHASED'}, {'itemId': 2055, 'participantId': 5, 'timestamp': 9891, 'type': 'ITEM_PURCHASED'}, {'itemId': 2003, 'participantId': 9, 'timestamp': 10023, 'type': 'ITEM_PURCHASED'}, {'itemId': 2031, 'participantId': 2, 'timestamp': 10122, 'type': 'ITEM_PURCHASED'}, {'itemId': 2031, 'participantId': 8, 'timestamp': 10683, 'type': 'ITEM_PURCHASED'}, {'afterId': 0, 'beforeId': 2031, 'goldGain': 150, 'participantId': 8, 'timestamp': 11906, 'type': 'ITEM_UNDO'}, {'itemId': 2003, 'participantId': 8, 'timestamp': 12699, 'type': 'ITEM_PURCHASED'}, {'itemId': 2003, 'participantId': 8, 'timestamp': 12864, 'type': 'ITEM_PURCHASED'}, {'itemId': 1054, 'participantId': 1, 'timestamp': 13029, 'type': 'ITEM_PURCHASED'}, {'itemId': 2003, 'participantId': 8, 'timestamp': 13029, 'type': 'ITEM_PURCHASED'}, {'itemId': 3340, 'participantId': 8, 'timestamp': 13293, 'type': 'ITEM_PURCHASED'}, {'itemId': 2003, 'participantId': 1, 'timestamp': 13492, 'type': 'ITEM_PURCHASED'}, {'itemId': 1055, 'participantId': 4, 'timestamp': 13921, 'type': 'ITEM_PURCHASED'}, {'itemId': 2003, 'participantId': 4, 'timestamp': 13921, 'type': 'ITEM_PURCHASED'}, {'afterId': 0, 'beforeId': 2055, 'goldGain': 75, 'participantId': 5, 'timestamp': 14680, 'type': 'ITEM_UNDO'}, {'itemId': 1006, 'participantId': 6, 'timestamp': 17355, 'type': 'ITEM_PURCHASED'}, {'itemId': 1006, 'participantId': 6, 'timestamp': 17653, 'type': 'ITEM_PURCHASED'}, {'itemId': 1006, 'participantId': 6, 'timestamp': 17950, 'type': 'ITEM_PURCHASED'}, {'itemId': 2003, 'participantId': 6, 'timestamp': 18709, 'type': 'ITEM_PURCHASED'}, {'itemId': 1055, 'participantId': 3, 'timestamp': 20625, 'type': 'ITEM_PURCHASED'}, {'itemId': 2003, 'participantId': 3, 'timestamp': 20625, 'type': 'ITEM_PURCHASED'}, {'itemId': 3340, 'participantId': 3, 'timestamp': 21022, 'type': 'ITEM_PURCHASED'}, {'itemId': 3854, 'participantId': 10, 'timestamp': 30039, 'type': 'ITEM_PURCHASED'}, {'itemId': 1035, 'participantId': 7, 'timestamp': 30799, 'type': 'ITEM_PURCHASED'}, {'itemId': 2003, 'participantId': 10, 'timestamp': 30799, 'type': 'ITEM_PURCHASED'}, {'itemId': 2003, 'participantId': 10, 'timestamp': 31031, 'type': 'ITEM_PURCHASED'}, {'creatorId': 4, 'timestamp': 31031, 'type': 'WARD_PLACED', 'wardType': 'YELLOW_TRINKET'}, {'itemId': 2031, 'participantId': 7, 'timestamp': 31460, 'type': 'ITEM_PURCHASED'}, {'itemId': 3340, 'participantId': 7, 'timestamp': 31823, 'type': 'ITEM_PURCHASED'}, {'creatorId': 2, 'timestamp': 44606, 'type': 'WARD_PLACED', 'wardType': 'YELLOW_TRINKET'}, {'creatorId': 7, 'timestamp': 47908, 'type': 'WARD_PLACED', 'wardType': 'YELLOW_TRINKET'}, {'levelUpType': 'NORMAL', 'participantId': 4, 'skillSlot': 1, 'timestamp': 49130, 'type': 'SKILL_LEVEL_UP'}, {'itemId': 3340, 'participantId': 7, 'timestamp': 57651, 'type': 'ITEM_DESTROYED'}, {'itemId': 3364, 'participantId': 7, 'timestamp': 57651, 'type': 'ITEM_PURCHASED'}]\n"
     ]
    }
   ],
   "source": [
    "print(ffff[\"events\"])"
   ]
  },
  {
   "cell_type": "code",
   "execution_count": 8,
   "metadata": {},
   "outputs": [
    {
     "name": "stdout",
     "output_type": "stream",
     "text": [
      "{'championStats': {'abilityHaste': 0, 'abilityPower': 0, 'armor': 36, 'armorPen': 0, 'armorPenPercent': 0, 'attackDamage': 78, 'attackSpeed': 100, 'bonusArmorPenPercent': 0, 'bonusMagicPenPercent': 0, 'ccReduction': 5, 'cooldownReduction': 0, 'health': 655, 'healthMax': 655, 'healthRegen': 27, 'lifesteal': 0, 'magicPen': 0, 'magicPenPercent': 0, 'magicResist': 40, 'movementSpeed': 345, 'omnivamp': 0, 'physicalVamp': 0, 'power': 200, 'powerMax': 200, 'powerRegen': 100, 'spellVamp': 0}, 'currentGold': 0, 'damageStats': {'magicDamageDone': 0, 'magicDamageDoneToChampions': 0, 'magicDamageTaken': 0, 'physicalDamageDone': 0, 'physicalDamageDoneToChampions': 0, 'physicalDamageTaken': 0, 'totalDamageDone': 0, 'totalDamageDoneToChampions': 0, 'totalDamageTaken': 0, 'trueDamageDone': 0, 'trueDamageDoneToChampions': 0, 'trueDamageTaken': 0}, 'goldPerSecond': 0, 'jungleMinionsKilled': 0, 'level': 1, 'minionsKilled': 0, 'participantId': 1, 'position': {'x': 4868, 'y': 9548}, 'timeEnemySpentControlled': 0, 'totalGold': 500, 'xp': 0}\n"
     ]
    }
   ],
   "source": [
    "print(ffff[\"participantFrames\"][\"1\"])"
   ]
  },
  {
   "cell_type": "code",
   "execution_count": 9,
   "metadata": {},
   "outputs": [
    {
     "name": "stdout",
     "output_type": "stream",
     "text": [
      "60029\n"
     ]
    }
   ],
   "source": [
    "print(ffff[\"timestamp\"])"
   ]
  },
  {
   "cell_type": "code",
   "execution_count": 10,
   "metadata": {},
   "outputs": [
    {
     "name": "stdout",
     "output_type": "stream",
     "text": [
      "[{'levelUpType': 'NORMAL', 'participantId': 7, 'skillSlot': 3, 'timestamp': 75139, 'type': 'SKILL_LEVEL_UP'}, {'levelUpType': 'NORMAL', 'participantId': 1, 'skillSlot': 3, 'timestamp': 80358, 'type': 'SKILL_LEVEL_UP'}, {'levelUpType': 'NORMAL', 'participantId': 10, 'skillSlot': 1, 'timestamp': 84058, 'type': 'SKILL_LEVEL_UP'}, {'levelUpType': 'NORMAL', 'participantId': 2, 'skillSlot': 2, 'timestamp': 85709, 'type': 'SKILL_LEVEL_UP'}, {'levelUpType': 'NORMAL', 'participantId': 5, 'skillSlot': 1, 'timestamp': 86271, 'type': 'SKILL_LEVEL_UP'}, {'levelUpType': 'NORMAL', 'participantId': 9, 'skillSlot': 1, 'timestamp': 87394, 'type': 'SKILL_LEVEL_UP'}, {'levelUpType': 'NORMAL', 'participantId': 3, 'skillSlot': 1, 'timestamp': 95850, 'type': 'SKILL_LEVEL_UP'}, {'level': 2, 'participantId': 2, 'timestamp': 102356, 'type': 'LEVEL_UP'}, {'levelUpType': 'NORMAL', 'participantId': 2, 'skillSlot': 1, 'timestamp': 103148, 'type': 'SKILL_LEVEL_UP'}, {'level': 2, 'participantId': 7, 'timestamp': 104966, 'type': 'LEVEL_UP'}, {'levelUpType': 'NORMAL', 'participantId': 6, 'skillSlot': 1, 'timestamp': 105890, 'type': 'SKILL_LEVEL_UP'}, {'levelUpType': 'NORMAL', 'participantId': 7, 'skillSlot': 2, 'timestamp': 106848, 'type': 'SKILL_LEVEL_UP'}]\n"
     ]
    }
   ],
   "source": [
    "ffff = frames[2]\n",
    "print(ffff[\"events\"])"
   ]
  },
  {
   "cell_type": "code",
   "execution_count": 11,
   "metadata": {},
   "outputs": [
    {
     "name": "stdout",
     "output_type": "stream",
     "text": [
      "[{'itemId': 3851, 'participantId': 5, 'timestamp': 1141635, 'type': 'ITEM_DESTROYED'}, {'killerId': 10, 'timestamp': 1142593, 'type': 'WARD_KILL', 'wardType': 'YELLOW_TRINKET'}, {'level': 11, 'participantId': 9, 'timestamp': 1142593, 'type': 'LEVEL_UP'}, {'itemId': 2055, 'participantId': 9, 'timestamp': 1143352, 'type': 'ITEM_DESTROYED'}, {'creatorId': 9, 'timestamp': 1143352, 'type': 'WARD_PLACED', 'wardType': 'CONTROL_WARD'}, {'assistingParticipantIds': [6, 9], 'bounty': 300, 'killStreakLength': 3, 'killerId': 7, 'position': {'x': 7163, 'y': 12094}, 'timestamp': 1143947, 'type': 'CHAMPION_KILL', 'victimDamageDealt': [{'basic': False, 'magicDamage': 0, 'name': 'LeeSin', 'participantId': 7, 'physicalDamage': 351, 'spellName': 'blindmonkqone', 'spellSlot': 0, 'trueDamage': 0, 'type': 'OTHER'}], 'victimDamageReceived': [{'basic': True, 'magicDamage': 0, 'name': 'SRU_ChaosMinionMelee', 'participantId': 0, 'physicalDamage': 9, 'spellName': 'sru_chaosminionmeleebasicattack', 'spellSlot': 64, 'trueDamage': 0, 'type': 'MINION'}, {'basic': True, 'magicDamage': 0, 'name': 'SRUAP_Turret_Chaos2', 'participantId': 0, 'physicalDamage': 194, 'spellName': 'sruap_turret_chaos2basicattack', 'spellSlot': 64, 'trueDamage': 0, 'type': 'TOWER'}, {'basic': False, 'magicDamage': 0, 'name': 'Qiyana', 'participantId': 8, 'physicalDamage': 519, 'spellName': 'qiyanar', 'spellSlot': 3, 'trueDamage': 0, 'type': 'OTHER'}, {'basic': False, 'magicDamage': 0, 'name': 'Qiyana', 'participantId': 8, 'physicalDamage': 108, 'spellName': 'qiyanae', 'spellSlot': 2, 'trueDamage': 0, 'type': 'OTHER'}, {'basic': False, 'magicDamage': 0, 'name': 'Qiyana', 'participantId': 8, 'physicalDamage': 56, 'spellName': 'qiyanapassive', 'spellSlot': 63, 'trueDamage': 0, 'type': 'OTHER'}, {'basic': False, 'magicDamage': 13, 'name': 'Qiyana', 'participantId': 8, 'physicalDamage': 0, 'spellName': 'qiyanaw', 'spellSlot': 1, 'trueDamage': 0, 'type': 'OTHER'}, {'basic': False, 'magicDamage': 0, 'name': 'Qiyana', 'participantId': 8, 'physicalDamage': 139, 'spellName': '', 'spellSlot': -1, 'trueDamage': 0, 'type': 'OTHER'}, {'basic': False, 'magicDamage': 0, 'name': 'Qiyana', 'participantId': 8, 'physicalDamage': 222, 'spellName': 'qiyanaq_rock', 'spellSlot': 0, 'trueDamage': 0, 'type': 'OTHER'}, {'basic': True, 'magicDamage': 0, 'name': 'Jhin', 'participantId': 9, 'physicalDamage': 160, 'spellName': 'jhinpassive', 'spellSlot': 63, 'trueDamage': 0, 'type': 'OTHER'}, {'basic': False, 'magicDamage': 0, 'name': 'Jhin', 'participantId': 9, 'physicalDamage': 203, 'spellName': 'jhinq', 'spellSlot': 0, 'trueDamage': 0, 'type': 'OTHER'}, {'basic': False, 'magicDamage': 70, 'name': 'Shyvana', 'participantId': 7, 'physicalDamage': 0, 'spellName': '', 'spellSlot': -1, 'trueDamage': 0, 'type': 'OTHER'}, {'basic': False, 'magicDamage': 388, 'name': 'Shyvana', 'participantId': 7, 'physicalDamage': 0, 'spellName': 'shyvanafireballdragon2', 'spellSlot': 2, 'trueDamage': 0, 'type': 'OTHER'}, {'basic': False, 'magicDamage': 0, 'name': 'Akali', 'participantId': 6, 'physicalDamage': 0, 'spellName': 'akalir', 'spellSlot': 3, 'trueDamage': 0, 'type': 'OTHER'}, {'basic': False, 'magicDamage': 0, 'name': 'Akali', 'participantId': 6, 'physicalDamage': 0, 'spellName': 'summonerdot', 'spellSlot': 4, 'trueDamage': 187, 'type': 'OTHER'}, {'basic': False, 'magicDamage': 0, 'name': 'Akali', 'participantId': 6, 'physicalDamage': 0, 'spellName': '', 'spellSlot': -1, 'trueDamage': 13, 'type': 'OTHER'}, {'basic': True, 'magicDamage': 0, 'name': 'Akali', 'participantId': 6, 'physicalDamage': 0, 'spellName': 'akalip', 'spellSlot': 63, 'trueDamage': 0, 'type': 'OTHER'}, {'basic': False, 'magicDamage': 0, 'name': 'Akali', 'participantId': 6, 'physicalDamage': 0, 'spellName': 'akalip', 'spellSlot': -1, 'trueDamage': 0, 'type': 'OTHER'}], 'victimId': 1}, {'level': 11, 'participantId': 6, 'timestamp': 1143947, 'type': 'LEVEL_UP'}, {'levelUpType': 'NORMAL', 'participantId': 9, 'skillSlot': 4, 'timestamp': 1144905, 'type': 'SKILL_LEVEL_UP'}, {'levelUpType': 'NORMAL', 'participantId': 6, 'skillSlot': 4, 'timestamp': 1145302, 'type': 'SKILL_LEVEL_UP'}, {'creatorId': 9, 'timestamp': 1146260, 'type': 'WARD_PLACED', 'wardType': 'UNDEFINED'}, {'killerId': 7, 'timestamp': 1147581, 'type': 'WARD_KILL', 'wardType': 'CONTROL_WARD'}, {'creatorId': 9, 'timestamp': 1149927, 'type': 'WARD_PLACED', 'wardType': 'UNDEFINED'}, {'itemId': 1036, 'participantId': 4, 'timestamp': 1152899, 'type': 'ITEM_DESTROYED'}, {'itemId': 1036, 'participantId': 4, 'timestamp': 1152899, 'type': 'ITEM_DESTROYED'}, {'itemId': 3133, 'participantId': 4, 'timestamp': 1152899, 'type': 'ITEM_PURCHASED'}, {'itemId': 2055, 'participantId': 4, 'timestamp': 1153957, 'type': 'ITEM_PURCHASED'}, {'creatorId': 10, 'timestamp': 1154056, 'type': 'WARD_PLACED', 'wardType': 'SIGHT_WARD'}, {'creatorId': 5, 'timestamp': 1154519, 'type': 'WARD_PLACED', 'wardType': 'SIGHT_WARD'}, {'creatorId': 6, 'timestamp': 1157028, 'type': 'WARD_PLACED', 'wardType': 'YELLOW_TRINKET'}, {'itemId': 2055, 'participantId': 10, 'timestamp': 1157392, 'type': 'ITEM_DESTROYED'}, {'creatorId': 10, 'timestamp': 1157392, 'type': 'WARD_PLACED', 'wardType': 'CONTROL_WARD'}, {'killerId': 10, 'timestamp': 1159307, 'type': 'WARD_KILL', 'wardType': 'SIGHT_WARD'}, {'creatorId': 5, 'timestamp': 1171230, 'type': 'WARD_PLACED', 'wardType': 'SIGHT_WARD'}, {'itemId': 1029, 'participantId': 10, 'timestamp': 1171626, 'type': 'ITEM_PURCHASED'}, {'itemId': 2055, 'participantId': 10, 'timestamp': 1172683, 'type': 'ITEM_PURCHASED'}, {'itemId': 1033, 'participantId': 5, 'timestamp': 1173311, 'type': 'ITEM_PURCHASED'}, {'creatorId': 3, 'timestamp': 1175721, 'type': 'WARD_PLACED', 'wardType': 'UNDEFINED'}, {'creatorId': 3, 'timestamp': 1180216, 'type': 'WARD_PLACED', 'wardType': 'UNDEFINED'}, {'itemId': 2055, 'participantId': 3, 'timestamp': 1183981, 'type': 'ITEM_DESTROYED'}, {'creatorId': 3, 'timestamp': 1183981, 'type': 'WARD_PLACED', 'wardType': 'CONTROL_WARD'}, {'creatorId': 3, 'timestamp': 1184708, 'type': 'WARD_PLACED', 'wardType': 'UNDEFINED'}, {'itemId': 2055, 'participantId': 7, 'timestamp': 1184939, 'type': 'ITEM_DESTROYED'}, {'creatorId': 7, 'timestamp': 1184939, 'type': 'WARD_PLACED', 'wardType': 'CONTROL_WARD'}, {'creatorId': 9, 'timestamp': 1185170, 'type': 'WARD_PLACED', 'wardType': 'UNDEFINED'}, {'bounty': 300, 'killStreakLength': 1, 'killerId': 2, 'position': {'x': 11650, 'y': 6938}, 'timestamp': 1188508, 'type': 'CHAMPION_KILL', 'victimDamageDealt': [{'basic': False, 'magicDamage': 0, 'name': 'Qiyana', 'participantId': 2, 'physicalDamage': 0, 'spellName': '', 'spellSlot': -1, 'trueDamage': 0, 'type': 'OTHER'}, {'basic': False, 'magicDamage': 0, 'name': 'Qiyana', 'participantId': 2, 'physicalDamage': 91, 'spellName': 'qiyanapassive', 'spellSlot': 63, 'trueDamage': 0, 'type': 'OTHER'}, {'basic': False, 'magicDamage': 14, 'name': 'Qiyana', 'participantId': 2, 'physicalDamage': 0, 'spellName': 'qiyanaw', 'spellSlot': 1, 'trueDamage': 0, 'type': 'OTHER'}, {'basic': False, 'magicDamage': 0, 'name': 'Qiyana', 'participantId': 2, 'physicalDamage': 66, 'spellName': 'qiyanaq_grass', 'spellSlot': 0, 'trueDamage': 0, 'type': 'OTHER'}], 'victimDamageReceived': [{'basic': True, 'magicDamage': 0, 'name': 'SRU_Murkwolf', 'participantId': 0, 'physicalDamage': 74, 'spellName': 'sru_murkwolfbasicattack', 'spellSlot': 64, 'trueDamage': 0, 'type': 'MONSTER'}, {'basic': True, 'magicDamage': 0, 'name': 'SRU_Murkwolf', 'participantId': 0, 'physicalDamage': 37, 'spellName': 'sru_murkwolfbasicattack2', 'spellSlot': 65, 'trueDamage': 0, 'type': 'MONSTER'}, {'basic': False, 'magicDamage': 0, 'name': 'Talon', 'participantId': 2, 'physicalDamage': 310, 'spellName': 'talonw', 'spellSlot': 1, 'trueDamage': 111, 'type': 'OTHER'}, {'basic': False, 'magicDamage': 0, 'name': 'Talon', 'participantId': 2, 'physicalDamage': 0, 'spellName': 's5_summonersmiteduel', 'spellSlot': 4, 'trueDamage': 97, 'type': 'OTHER'}, {'basic': False, 'magicDamage': 0, 'name': 'Talon', 'participantId': 2, 'physicalDamage': 66, 'spellName': '', 'spellSlot': -1, 'trueDamage': 0, 'type': 'OTHER'}, {'basic': False, 'magicDamage': 0, 'name': 'Talon', 'participantId': 2, 'physicalDamage': 409, 'spellName': 'talonr', 'spellSlot': 3, 'trueDamage': 0, 'type': 'OTHER'}, {'basic': False, 'magicDamage': 0, 'name': 'Talon', 'participantId': 2, 'physicalDamage': 295, 'spellName': 'talonq', 'spellSlot': 0, 'trueDamage': 0, 'type': 'OTHER'}, {'basic': True, 'magicDamage': 0, 'name': 'Talon', 'participantId': 2, 'physicalDamage': 177, 'spellName': 'talonpassive', 'spellSlot': 63, 'trueDamage': 0, 'type': 'OTHER'}, {'basic': False, 'magicDamage': 0, 'name': 'Talon', 'participantId': 2, 'physicalDamage': 21, 'spellName': 'talonpassive', 'spellSlot': 63, 'trueDamage': 0, 'type': 'OTHER'}, {'basic': False, 'magicDamage': 0, 'name': 'Talon', 'participantId': 7, 'physicalDamage': 0, 'spellName': 'burning', 'spellSlot': -1, 'trueDamage': 26, 'type': 'OTHER'}], 'victimId': 8}, {'assistingParticipantIds': [9], 'bounty': 274, 'killStreakLength': 4, 'killerId': 7, 'position': {'x': 820, 'y': 10709}, 'timestamp': 1192374, 'type': 'CHAMPION_KILL', 'victimDamageDealt': [{'basic': True, 'magicDamage': 0, 'name': 'Akshan', 'participantId': 7, 'physicalDamage': 91, 'spellName': 'akshanbasicattack', 'spellSlot': 64, 'trueDamage': 0, 'type': 'OTHER'}], 'victimDamageReceived': [{'basic': False, 'magicDamage': 0, 'name': 'Jhin', 'participantId': 9, 'physicalDamage': 198, 'spellName': 'jhinq', 'spellSlot': 0, 'trueDamage': 0, 'type': 'OTHER'}, {'basic': False, 'magicDamage': 0, 'name': 'Shyvana', 'participantId': 7, 'physicalDamage': 41, 'spellName': 'shyvanadoubleattackhitdragon2', 'spellSlot': -1, 'trueDamage': 0, 'type': 'OTHER'}, {'basic': False, 'magicDamage': 785, 'name': 'Shyvana', 'participantId': 7, 'physicalDamage': 0, 'spellName': 'shyvanafireballdragon2', 'spellSlot': 2, 'trueDamage': 114, 'type': 'OTHER'}, {'basic': False, 'magicDamage': 139, 'name': 'Shyvana', 'participantId': 7, 'physicalDamage': 0, 'spellName': '', 'spellSlot': -1, 'trueDamage': 0, 'type': 'OTHER'}, {'basic': False, 'magicDamage': 0, 'name': 'Shyvana', 'participantId': 7, 'physicalDamage': 106, 'spellName': 'shyvanadoubleattackdragon', 'spellSlot': 0, 'trueDamage': 0, 'type': 'OTHER'}, {'basic': False, 'magicDamage': 49, 'name': 'Shyvana', 'participantId': 7, 'physicalDamage': 0, 'spellName': 'shyvanaimmolatedragon', 'spellSlot': 1, 'trueDamage': 0, 'type': 'OTHER'}, {'basic': False, 'magicDamage': 0, 'name': 'Shyvana', 'participantId': 7, 'physicalDamage': 0, 'spellName': 'burning', 'spellSlot': -1, 'trueDamage': 26, 'type': 'OTHER'}], 'victimId': 3}, {'level': 13, 'participantId': 7, 'timestamp': 1192374, 'type': 'LEVEL_UP'}, {'level': 12, 'participantId': 9, 'timestamp': 1192374, 'type': 'LEVEL_UP'}, {'levelUpType': 'NORMAL', 'participantId': 7, 'skillSlot': 2, 'timestamp': 1193464, 'type': 'SKILL_LEVEL_UP'}, {'levelUpType': 'NORMAL', 'participantId': 9, 'skillSlot': 2, 'timestamp': 1193596, 'type': 'SKILL_LEVEL_UP'}, {'level': 13, 'participantId': 2, 'timestamp': 1194488, 'type': 'LEVEL_UP'}, {'levelUpType': 'NORMAL', 'participantId': 2, 'skillSlot': 1, 'timestamp': 1195612, 'type': 'SKILL_LEVEL_UP'}, {'itemId': 1018, 'participantId': 3, 'timestamp': 1197826, 'type': 'ITEM_PURCHASED'}, {'killerId': 5, 'timestamp': 1199742, 'type': 'WARD_KILL', 'wardType': 'CONTROL_WARD'}]\n"
     ]
    }
   ],
   "source": [
    "ffff = frames[20]\n",
    "print(ffff[\"events\"])"
   ]
  },
  {
   "cell_type": "code",
   "execution_count": 12,
   "metadata": {},
   "outputs": [
    {
     "name": "stdout",
     "output_type": "stream",
     "text": [
      "{'CHAMPION_KILL', 'WARD_PLACED', 'ELITE_MONSTER_KILL', 'SKILL_LEVEL_UP', 'TURRET_PLATE_DESTROYED', 'BUILDING_KILL', 'DRAGON_SOUL_GIVEN', 'ITEM_DESTROYED', 'GAME_END', 'LEVEL_UP', 'PAUSE_END', 'WARD_KILL', 'ITEM_SOLD', 'CHAMPION_SPECIAL_KILL', 'ITEM_UNDO', 'ITEM_PURCHASED'}\n"
     ]
    }
   ],
   "source": [
    "record_all_event_type = set()\n",
    "for frame in frames:\n",
    "    for ev in frame[\"events\"]:\n",
    "        record_all_event_type.add(ev[\"type\"])\n",
    "print(record_all_event_type)"
   ]
  },
  {
   "cell_type": "code",
   "execution_count": 16,
   "metadata": {},
   "outputs": [
    {
     "name": "stdout",
     "output_type": "stream",
     "text": [
      "{'name': \"Caulfield's Warhammer\", 'description': '<mainText><stats><attention>25</attention> Attack Damage<br><attention>10</attention> Ability Haste</stats></mainText><br>', 'colloq': ';', 'plaintext': 'Attack Damage and Cooldown Reduction', 'stacks': 0, 'from': ['1036', '1036'], 'into': ['6609', '3071', '3004', '6630', '3074', '3142', '3156', '3508', '6333', '6632', '6675', '6691', '6693', '6694', '6696'], 'image': {'full': '3133.png', 'sprite': 'item1.png', 'group': 'item', 'x': 288, 'y': 96, 'w': 48, 'h': 48}, 'gold': {'base': 400, 'purchasable': True, 'total': 1100, 'sell': 770}, 'tags': ['Damage', 'CooldownReduction', 'AbilityHaste'], 'maps': {'11': True, '12': True, '21': True, '22': False}, 'stats': {'FlatPhysicalDamageMod': 25}, 'depth': 2}\n"
     ]
    }
   ],
   "source": [
    "with open(\"../item.json\") as fin:\n",
    "    all_items = json.load(fin)\n",
    "# all_items: dict_keys(['type', 'version', 'basic', 'data', 'groups', 'tree'])\n",
    "data = all_items[\"data\"] # item check dict\n",
    "print(data[\"3133\"])"
   ]
  },
  {
   "cell_type": "code",
   "execution_count": 14,
   "metadata": {},
   "outputs": [],
   "source": [
    "# itemId check list: https://ddragon.leagueoflegends.com/cdn/12.13.1/data/en_US/item.json\n",
    "# championId check list: https://ddragon.leagueoflegends.com/cdn/12.13.1/data/en_US/champion.json"
   ]
  }
 ],
 "metadata": {
  "kernelspec": {
   "display_name": "Python 3",
   "language": "python",
   "name": "python3"
  },
  "language_info": {
   "codemirror_mode": {
    "name": "ipython",
    "version": 3
   },
   "file_extension": ".py",
   "mimetype": "text/x-python",
   "name": "python",
   "nbconvert_exporter": "python",
   "pygments_lexer": "ipython3",
   "version": "3.6.2"
  },
  "vscode": {
   "interpreter": {
    "hash": "4da9a4f2f123c2c314c76b346e5f7c1f22f3cfabbae454886d5e1b9fcd39ac32"
   }
  }
 },
 "nbformat": 4,
 "nbformat_minor": 2
}
