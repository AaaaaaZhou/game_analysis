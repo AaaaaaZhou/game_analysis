{
 "cells": [
  {
   "cell_type": "code",
   "execution_count": 1,
   "metadata": {},
   "outputs": [
    {
     "name": "stdout",
     "output_type": "stream",
     "text": [
      "dict_keys(['meta', 'timeline'])\n"
     ]
    }
   ],
   "source": [
    "import json\n",
    "\n",
    "with open(\"test_timeline.json\") as fin:\n",
    "    dddd = json.load(fin)\n",
    "print(dddd.keys())"
   ]
  },
  {
   "cell_type": "code",
   "execution_count": 2,
   "metadata": {},
   "outputs": [
    {
     "name": "stdout",
     "output_type": "stream",
     "text": [
      "{'FhY85U05l5k6InUvUqnygE5VhPbrOvkuBPeA27bUn62CdITkslfsh_jhGkXA_6c4oF3tiJpQGIeAAw': ['LeeSin', 'TOP'], 'NamVk-w5XsiHXwNmWEIhwATdILNQV6t7Ki7vanYgNpp0ACpBX5A625TxUOAl3FgiEMhkZCu-n8Ek6g': ['Talon', 'JUNGLE'], 'vV3GpjM9wXSpbNP2aeVjA5kpS7S7bjvXntMuT9cHxpgWwM08bugCx9ZjzHuRGgdcen6Iwur0O-7nDw': ['Akshan', 'MIDDLE'], 'EnMY1-LZLCMzDIs9EVHTYZrgIIlr8qmiHj0ZdDLIesYpDezUxJRve03DovAc5ugdIBR-nqFOgClgVg': ['Ezreal', 'BOTTOM'], 'Ge4RYYCbFTTuiFkAMGUvwDJykvV84mTiIKgen1k5BavhvQ8kQfmlZqU2TVg-TQcHHQdLh0I6dMkVgw': ['Yuumi', 'UTILITY'], '1pT3iu6eWp3i4AMI_4tEccIYGLYuj8x9aezRHfA9G_kJsLpnImzbAyO2dD3cfZrkduawd5YB9X8J_w': ['Akali', 'TOP'], '62O_V9UeLXpkm_Zg1LMzNhfDsaEVRQSnuE4W37CfJITeguNjriBCTixOxWky9z_Jf3uFC7c0Tai32g': ['Shyvana', 'JUNGLE'], 'y0Q8Z9vmo7g_HVkPPloMWGmOA97TU6M1k5ALq9iqvm05QpHpD2Nbaanu_aARGLm6ecH9ButCxV-3kg': ['Qiyana', 'MIDDLE'], 'uJK6vnt8w3T7fwRdVgiYnWvF3mS1x99hmh0VzMSacmG9_xXHE8Rl8ui1e78oYKaxtTKv1qlj_C8hHQ': ['Jhin', 'BOTTOM'], 'cdCzXPy9ei0pYJLO19WB64KuQ0pzdIEz91rnpMkW59LmSEdhjEy_gvLpUBjc2hz6Gz8lgQ7AZmHhfg': ['Leona', 'UTILITY']}\n"
     ]
    }
   ],
   "source": [
    "print(dddd[\"meta\"]) # dict{puuid: [champ_name, pos]}"
   ]
  },
  {
   "cell_type": "code",
   "execution_count": 3,
   "metadata": {},
   "outputs": [
    {
     "name": "stdout",
     "output_type": "stream",
     "text": [
      "dict_keys(['metadata', 'info'])\n"
     ]
    }
   ],
   "source": [
    "timeline = dddd[\"timeline\"]\n",
    "print(timeline.keys())"
   ]
  },
  {
   "cell_type": "code",
   "execution_count": 4,
   "metadata": {},
   "outputs": [
    {
     "name": "stdout",
     "output_type": "stream",
     "text": [
      "dict_keys(['frameInterval', 'frames', 'gameId', 'participants'])\n"
     ]
    }
   ],
   "source": [
    "info = timeline[\"info\"]\n",
    "print(info.keys())"
   ]
  },
  {
   "cell_type": "code",
   "execution_count": 5,
   "metadata": {},
   "outputs": [
    {
     "name": "stdout",
     "output_type": "stream",
     "text": [
      "36\n"
     ]
    }
   ],
   "source": [
    "frames = info[\"frames\"]\n",
    "print(len(frames))"
   ]
  },
  {
   "cell_type": "code",
   "execution_count": 6,
   "metadata": {},
   "outputs": [
    {
     "name": "stdout",
     "output_type": "stream",
     "text": [
      "dict_keys(['events', 'participantFrames', 'timestamp'])\n"
     ]
    }
   ],
   "source": [
    "ffff = frames[1]\n",
    "print(ffff.keys())"
   ]
  },
  {
   "cell_type": "code",
   "execution_count": 7,
   "metadata": {},
   "outputs": [
    {
     "name": "stdout",
     "output_type": "stream",
     "text": [
      "[{'itemId': 3850, 'participantId': 5, 'timestamp': 4902, 'type': 'ITEM_PURCHASED'}, {'itemId': 2003, 'participantId': 5, 'timestamp': 4902, 'type': 'ITEM_PURCHASED'}, {'itemId': 2003, 'participantId': 5, 'timestamp': 4902, 'type': 'ITEM_PURCHASED'}, {'afterId': 0, 'beforeId': 2003, 'goldGain': 50, 'participantId': 5, 'timestamp': 6455, 'type': 'ITEM_UNDO'}, {'afterId': 0, 'beforeId': 2003, 'goldGain': 50, 'participantId': 5, 'timestamp': 6687, 'type': 'ITEM_UNDO'}, {'itemId': 3340, 'participantId': 5, 'timestamp': 7579, 'type': 'ITEM_PURCHASED'}, {'itemId': 1001, 'participantId': 9, 'timestamp': 9032, 'type': 'ITEM_PURCHASED'}, {'itemId': 1035, 'participantId': 2, 'timestamp': 9362, 'type': 'ITEM_PURCHASED'}, {'itemId': 2003, 'participantId': 9, 'timestamp': 9429, 'type': 'ITEM_PURCHASED'}, {'itemId': 2003, 'participantId': 9, 'timestamp': 9594, 'type': 'ITEM_PURCHASED'}, {'itemId': 2003, 'participantId': 9, 'timestamp': 9726, 'type': 'ITEM_PURCHASED'}, {'itemId': 3340, 'participantId': 2, 'timestamp': 9825, 'type': 'ITEM_PURCHASED'}, {'itemId': 1036, 'participantId': 8, 'timestamp': 9825, 'type': 'ITEM_PURCHASED'}, {'itemId': 2055, 'participantId': 5, 'timestamp': 9891, 'type': 'ITEM_PURCHASED'}, {'itemId': 2003, 'participantId': 9, 'timestamp': 10023, 'type': 'ITEM_PURCHASED'}, {'itemId': 2031, 'participantId': 2, 'timestamp': 10122, 'type': 'ITEM_PURCHASED'}, {'itemId': 2031, 'participantId': 8, 'timestamp': 10683, 'type': 'ITEM_PURCHASED'}, {'afterId': 0, 'beforeId': 2031, 'goldGain': 150, 'participantId': 8, 'timestamp': 11906, 'type': 'ITEM_UNDO'}, {'itemId': 2003, 'participantId': 8, 'timestamp': 12699, 'type': 'ITEM_PURCHASED'}, {'itemId': 2003, 'participantId': 8, 'timestamp': 12864, 'type': 'ITEM_PURCHASED'}, {'itemId': 1054, 'participantId': 1, 'timestamp': 13029, 'type': 'ITEM_PURCHASED'}, {'itemId': 2003, 'participantId': 8, 'timestamp': 13029, 'type': 'ITEM_PURCHASED'}, {'itemId': 3340, 'participantId': 8, 'timestamp': 13293, 'type': 'ITEM_PURCHASED'}, {'itemId': 2003, 'participantId': 1, 'timestamp': 13492, 'type': 'ITEM_PURCHASED'}, {'itemId': 1055, 'participantId': 4, 'timestamp': 13921, 'type': 'ITEM_PURCHASED'}, {'itemId': 2003, 'participantId': 4, 'timestamp': 13921, 'type': 'ITEM_PURCHASED'}, {'afterId': 0, 'beforeId': 2055, 'goldGain': 75, 'participantId': 5, 'timestamp': 14680, 'type': 'ITEM_UNDO'}, {'itemId': 1006, 'participantId': 6, 'timestamp': 17355, 'type': 'ITEM_PURCHASED'}, {'itemId': 1006, 'participantId': 6, 'timestamp': 17653, 'type': 'ITEM_PURCHASED'}, {'itemId': 1006, 'participantId': 6, 'timestamp': 17950, 'type': 'ITEM_PURCHASED'}, {'itemId': 2003, 'participantId': 6, 'timestamp': 18709, 'type': 'ITEM_PURCHASED'}, {'itemId': 1055, 'participantId': 3, 'timestamp': 20625, 'type': 'ITEM_PURCHASED'}, {'itemId': 2003, 'participantId': 3, 'timestamp': 20625, 'type': 'ITEM_PURCHASED'}, {'itemId': 3340, 'participantId': 3, 'timestamp': 21022, 'type': 'ITEM_PURCHASED'}, {'itemId': 3854, 'participantId': 10, 'timestamp': 30039, 'type': 'ITEM_PURCHASED'}, {'itemId': 1035, 'participantId': 7, 'timestamp': 30799, 'type': 'ITEM_PURCHASED'}, {'itemId': 2003, 'participantId': 10, 'timestamp': 30799, 'type': 'ITEM_PURCHASED'}, {'itemId': 2003, 'participantId': 10, 'timestamp': 31031, 'type': 'ITEM_PURCHASED'}, {'creatorId': 4, 'timestamp': 31031, 'type': 'WARD_PLACED', 'wardType': 'YELLOW_TRINKET'}, {'itemId': 2031, 'participantId': 7, 'timestamp': 31460, 'type': 'ITEM_PURCHASED'}, {'itemId': 3340, 'participantId': 7, 'timestamp': 31823, 'type': 'ITEM_PURCHASED'}, {'creatorId': 2, 'timestamp': 44606, 'type': 'WARD_PLACED', 'wardType': 'YELLOW_TRINKET'}, {'creatorId': 7, 'timestamp': 47908, 'type': 'WARD_PLACED', 'wardType': 'YELLOW_TRINKET'}, {'levelUpType': 'NORMAL', 'participantId': 4, 'skillSlot': 1, 'timestamp': 49130, 'type': 'SKILL_LEVEL_UP'}, {'itemId': 3340, 'participantId': 7, 'timestamp': 57651, 'type': 'ITEM_DESTROYED'}, {'itemId': 3364, 'participantId': 7, 'timestamp': 57651, 'type': 'ITEM_PURCHASED'}]\n"
     ]
    }
   ],
   "source": [
    "print(ffff[\"events\"])"
   ]
  },
  {
   "cell_type": "code",
   "execution_count": 8,
   "metadata": {},
   "outputs": [
    {
     "name": "stdout",
     "output_type": "stream",
     "text": [
      "{'championStats': {'abilityHaste': 0, 'abilityPower': 0, 'armor': 36, 'armorPen': 0, 'armorPenPercent': 0, 'attackDamage': 78, 'attackSpeed': 100, 'bonusArmorPenPercent': 0, 'bonusMagicPenPercent': 0, 'ccReduction': 5, 'cooldownReduction': 0, 'health': 655, 'healthMax': 655, 'healthRegen': 27, 'lifesteal': 0, 'magicPen': 0, 'magicPenPercent': 0, 'magicResist': 40, 'movementSpeed': 345, 'omnivamp': 0, 'physicalVamp': 0, 'power': 200, 'powerMax': 200, 'powerRegen': 100, 'spellVamp': 0}, 'currentGold': 0, 'damageStats': {'magicDamageDone': 0, 'magicDamageDoneToChampions': 0, 'magicDamageTaken': 0, 'physicalDamageDone': 0, 'physicalDamageDoneToChampions': 0, 'physicalDamageTaken': 0, 'totalDamageDone': 0, 'totalDamageDoneToChampions': 0, 'totalDamageTaken': 0, 'trueDamageDone': 0, 'trueDamageDoneToChampions': 0, 'trueDamageTaken': 0}, 'goldPerSecond': 0, 'jungleMinionsKilled': 0, 'level': 1, 'minionsKilled': 0, 'participantId': 1, 'position': {'x': 4868, 'y': 9548}, 'timeEnemySpentControlled': 0, 'totalGold': 500, 'xp': 0}\n"
     ]
    }
   ],
   "source": [
    "print(ffff[\"participantFrames\"][\"1\"])"
   ]
  },
  {
   "cell_type": "code",
   "execution_count": 9,
   "metadata": {},
   "outputs": [
    {
     "name": "stdout",
     "output_type": "stream",
     "text": [
      "60029\n"
     ]
    }
   ],
   "source": [
    "print(ffff[\"timestamp\"])"
   ]
  },
  {
   "cell_type": "code",
   "execution_count": null,
   "metadata": {},
   "outputs": [],
   "source": [
    "# itemId check list: https://ddragon.leagueoflegends.com/cdn/12.13.1/data/en_US/item.json\n",
    "# championId check list: https://ddragon.leagueoflegends.com/cdn/12.13.1/data/en_US/champion.json"
   ]
  }
 ],
 "metadata": {
  "kernelspec": {
   "display_name": "Python 3.6.2 64-bit",
   "language": "python",
   "name": "python3"
  },
  "language_info": {
   "codemirror_mode": {
    "name": "ipython",
    "version": 3
   },
   "file_extension": ".py",
   "mimetype": "text/x-python",
   "name": "python",
   "nbconvert_exporter": "python",
   "pygments_lexer": "ipython3",
   "version": "3.6.2"
  },
  "vscode": {
   "interpreter": {
    "hash": "4da9a4f2f123c2c314c76b346e5f7c1f22f3cfabbae454886d5e1b9fcd39ac32"
   }
  }
 },
 "nbformat": 4,
 "nbformat_minor": 2
}
